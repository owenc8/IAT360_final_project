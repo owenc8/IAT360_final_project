{
  "nbformat": 4,
  "nbformat_minor": 0,
  "metadata": {
    "colab": {
      "provenance": [],
      "authorship_tag": "ABX9TyP0zM22BAyJMVJ1LQn8rLD0",
      "include_colab_link": true
    },
    "kernelspec": {
      "name": "python3",
      "display_name": "Python 3"
    },
    "language_info": {
      "name": "python"
    }
  },
  "cells": [
    {
      "cell_type": "markdown",
      "metadata": {
        "id": "view-in-github",
        "colab_type": "text"
      },
      "source": [
        "<a href=\"https://colab.research.google.com/github/owenc8/IAT360_final_project/blob/main/final_proj_CV_IAT360.ipynb\" target=\"_parent\"><img src=\"https://colab.research.google.com/assets/colab-badge.svg\" alt=\"Open In Colab\"/></a>"
      ]
    },
    {
      "cell_type": "code",
      "execution_count": null,
      "metadata": {
        "id": "UcxNzD8E7E-B"
      },
      "outputs": [],
      "source": [
        "from google.colab import drive\n",
        "drive.mount('/content/drive')"
      ]
    },
    {
      "cell_type": "code",
      "source": [
        "import numpy as np # linear algebra\n",
        "import pandas as pd # data processing, CSV file I/O (e.g. pd.read_csv)\n",
        "import matplotlib.pyplot as plt\n",
        "import tensorflow as tf\n",
        "from tensorflow import keras\n",
        "import cv2\n",
        "import seaborn as sns\n",
        "import glob\n",
        "import xml.etree.ElementTree as ET\n",
        "from PIL import Image\n",
        "import os\n",
        "import shutil"
      ],
      "metadata": {
        "id": "9TjjUK8s7Ysf"
      },
      "execution_count": 1,
      "outputs": []
    },
    {
      "cell_type": "markdown",
      "source": [
        "Making directories"
      ],
      "metadata": {
        "id": "MM0fR3l88jyd"
      }
    },
    {
      "cell_type": "code",
      "source": [
        "test_dir = '/content/drive/MyDrive/CV_final_project/Test'\n",
        "train_dir = '/content/drive/MyDrive/CV_final_project/Train'"
      ],
      "metadata": {
        "id": "dH9qp4cR7YqM"
      },
      "execution_count": null,
      "outputs": []
    },
    {
      "cell_type": "code",
      "source": [
        "os.makedirs('/content/drive/MyDrive/CV_final_project/Final_data/images')\n",
        "os.makedirs('/content/drive/MyDrive/CV_final_project/Final_data/labels')\n",
        "os.makedirs('/content/drive/MyDrive/CV_final_project/Final_data/images/train')\n",
        "os.makedirs('/content/drive/MyDrive/CV_final_project/Final_data/images/val')\n",
        "os.makedirs('/content/drive/MyDrive/CV_final_project/Final_data/labels/train')\n",
        "os.makedirs('/content/drive/MyDrive/CV_final_project/Final_data/labels/val')"
      ],
      "metadata": {
        "id": "mZx0wHEb7Yn0"
      },
      "execution_count": null,
      "outputs": []
    },
    {
      "cell_type": "code",
      "source": [
        "label_dir= \"/content/drive/MyDrive/CV_final_project/Final_data/labels\"\n",
        "image_dir=\"/content/drive/MyDrive/CV_final_project/Final_data/images\""
      ],
      "metadata": {
        "id": "RJ_KnRT17Yld"
      },
      "execution_count": null,
      "outputs": []
    },
    {
      "cell_type": "code",
      "source": [
        "#run it once for copying!\n",
        "for file in os.listdir(train_dir):\n",
        "    if file.endswith(\".xml\"):\n",
        "        shutil.copy(os.path.join(train_dir, file), os.path.join(label_dir, \"train\"))\n",
        "    if file.endswith(\".jpg\"):\n",
        "        image = Image.open(os.path.join(train_dir, file))\n",
        "        image = image.convert(\"RGB\")\n",
        "        new_filename = os.path.splitext(file)[0] + \".jpg\"\n",
        "        image.save(os.path.join(image_dir,\"train\", new_filename), \"JPEG\")\n",
        "        #shutil.copy(os.path.join(train_dir, file), os.path.join(image_dir, \"train\"))\n",
        "\n",
        "\n",
        "#Copy XML files and jpg files from the test folder to the folders created.\n",
        "for file in os.listdir(test_dir):\n",
        "    if file.endswith(\".xml\"):\n",
        "        shutil.copy(os.path.join(test_dir, file), os.path.join(label_dir, \"val\"))\n",
        "    if file.endswith(\".jpg\"):\n",
        "        image = Image.open(os.path.join(test_dir, file))\n",
        "        image = image.convert(\"RGB\")\n",
        "        new_filename = os.path.splitext(file)[0] + \".jpg\"\n",
        "        image.save(os.path.join(image_dir,\"val\", new_filename), \"JPEG\")\n",
        "        #shutil.copy(os.path.join(test_dir, file), os.path.join(image_dir, \"val\"))"
      ],
      "metadata": {
        "id": "v6XdAfL87YjM"
      },
      "execution_count": null,
      "outputs": []
    },
    {
      "cell_type": "code",
      "source": [],
      "metadata": {
        "id": "9kH1SR8I7Yg_"
      },
      "execution_count": null,
      "outputs": []
    },
    {
      "cell_type": "code",
      "source": [],
      "metadata": {
        "id": "wyG8w41r7YeR"
      },
      "execution_count": null,
      "outputs": []
    },
    {
      "cell_type": "code",
      "source": [],
      "metadata": {
        "id": "9_s0MpkU7YVp"
      },
      "execution_count": null,
      "outputs": []
    },
    {
      "cell_type": "code",
      "source": [],
      "metadata": {
        "id": "KbMK-rOr7YMJ"
      },
      "execution_count": null,
      "outputs": []
    },
    {
      "cell_type": "code",
      "source": [],
      "metadata": {
        "id": "GF5cu6Xs7YBL"
      },
      "execution_count": null,
      "outputs": []
    }
  ]
}